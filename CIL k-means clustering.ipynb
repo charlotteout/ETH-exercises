{
 "cells": [
  {
   "cell_type": "markdown",
   "metadata": {},
   "source": [
    "# CIL exercise k-means clustering"
   ]
  },
  {
   "cell_type": "code",
   "execution_count": null,
   "metadata": {},
   "outputs": [],
   "source": [
    "%matplotlib inline\n",
    "\n",
    "import matplotlib\n",
    "import numpy as np\n",
    "import matplotlib.pyplot as plt\n",
    "# pip3 install Pillow\n",
    "import os,sys\n",
    "from PIL import Image\n",
    "import os\n",
    "import time"
   ]
  },
  {
   "cell_type": "code",
   "execution_count": null,
   "metadata": {},
   "outputs": [],
   "source": [
    "#np.array because then we can find the uncompressed size later\n",
    "im = np.array(Image.open('eth.jpg'))\n",
    "im2 = np.array(Image.open('tokara.jpg'))"
   ]
  },
  {
   "cell_type": "code",
   "execution_count": null,
   "metadata": {},
   "outputs": [],
   "source": [
    "plt.imshow(im)"
   ]
  },
  {
   "cell_type": "code",
   "execution_count": null,
   "metadata": {},
   "outputs": [],
   "source": [
    "plt.imshow(im2)"
   ]
  },
  {
   "cell_type": "code",
   "execution_count": null,
   "metadata": {},
   "outputs": [],
   "source": [
    "#what is the uncompressed size of this image considering only pixels\n",
    "print('Resolution:', im.shape)\n",
    "print('Uncompressed size:', np.product(im.shape), 'bytes')\n",
    "\n",
    "print('Resolution:', im2.shape)\n",
    "print('Uncompressed size:', np.product(im2.shape), 'bytes')"
   ]
  },
  {
   "cell_type": "markdown",
   "metadata": {},
   "source": [
    "We need to transform the image to a set of points/vectors, such that we can run the clustering algorithm on it. We will treat each pixel as a 3D vector (1 dimension per color channel R,G and B)"
   ]
  },
  {
   "cell_type": "code",
   "execution_count": null,
   "metadata": {},
   "outputs": [],
   "source": [
    "#we will continue with the first image\n",
    "height = 606\n",
    "width = 465\n",
    "channels = 3\n",
    "#each pixel is a vector with dim number colour channels\n",
    "pixels = im.reshape(height*width,channels)"
   ]
  },
  {
   "cell_type": "code",
   "execution_count": null,
   "metadata": {},
   "outputs": [],
   "source": [
    "pixels[0]"
   ]
  },
  {
   "cell_type": "code",
   "execution_count": null,
   "metadata": {},
   "outputs": [],
   "source": [
    "def initialize(X,k):\n",
    "    cc = np.random.choice(X.shape[0], k, replace=False)\n",
    "    return cc"
   ]
  },
  {
   "cell_type": "code",
   "execution_count": null,
   "metadata": {},
   "outputs": [],
   "source": [
    "#these are examples of cluster centroids (1D)\n",
    "cc = initialize(pixvec, 4)"
   ]
  },
  {
   "cell_type": "code",
   "execution_count": null,
   "metadata": {},
   "outputs": [],
   "source": [
    "def assign_clusters(X,U):\n",
    "    \"\"\"\"\n",
    "    Compute the cluster to which each point belongs by finding the\n",
    "    centroid it is closest to\n",
    "    return: \n",
    "    \"\"\"\n",
    "    distances = np.sum((X[:, np.newaxis] - U[np.newaxis, :])**2, axis=2) # Squared\n",
    "    #because the new axis = 1 and at this new axis\n",
    "    #we store the subtraction of the pixel and all the cluster\n",
    "    #centroids\n",
    "    z = np.argmin(distances, axis=1)\n",
    "    return(z)\n",
    "    \n",
    "    "
   ]
  },
  {
   "cell_type": "code",
   "execution_count": null,
   "metadata": {},
   "outputs": [],
   "source": [
    "pixels.copy()[:,np.newaxis].shape"
   ]
  },
  {
   "cell_type": "code",
   "execution_count": 105,
   "metadata": {},
   "outputs": [],
   "source": [
    "thing = pixels.copy()[:,np.newaxis] - U[np.newaxis,:]"
   ]
  },
  {
   "cell_type": "code",
   "execution_count": 108,
   "metadata": {},
   "outputs": [
    {
     "name": "stdout",
     "output_type": "stream",
     "text": [
      "(281790, 16, 3)\n"
     ]
    }
   ],
   "source": [
    "print(thing.shape)"
   ]
  },
  {
   "cell_type": "code",
   "execution_count": 99,
   "metadata": {},
   "outputs": [
    {
     "name": "stdout",
     "output_type": "stream",
     "text": [
      "[[321 224  16 ... 169  48 451]\n",
      " [321 224  16 ... 169  48 451]\n",
      " [321 224  16 ... 169  48 451]\n",
      " ...\n",
      " [248 181 229 ... 490 117 418]\n",
      " [504  85 261 ... 234 149 162]\n",
      " [387 162 170 ... 357 330 205]]\n",
      "(281790, 16)\n"
     ]
    },
    {
     "data": {
      "text/plain": [
       "array([2, 2, 2, ..., 4, 1, 6])"
      ]
     },
     "execution_count": 99,
     "metadata": {},
     "output_type": "execute_result"
    }
   ],
   "source": [
    "assign_clusters(pixels.copy(),U)"
   ]
  },
  {
   "cell_type": "code",
   "execution_count": 90,
   "metadata": {},
   "outputs": [],
   "source": [
    "def compute_centroids(points,z,k):\n",
    "    centroids = []\n",
    "    for i in range(k):\n",
    "        points_k = points[z==i]\n",
    "        if len(points_k) > 0:\n",
    "            centroids.append(np.mean(points_k,axis=0))\n",
    "    return np.array(centroids), len(centroids)"
   ]
  },
  {
   "cell_type": "code",
   "execution_count": 91,
   "metadata": {},
   "outputs": [],
   "source": [
    "def do_loop(X,U,z,k):\n",
    "    \n",
    "    converged = False\n",
    "    dropped = 0\n",
    "    \n",
    "    while(not converged and k>0):\n",
    "        #step1\n",
    "        U, l = compute_centroids(X,z,k)\n",
    "        dropped += k-l\n",
    "        k = l\n",
    "        #step2\n",
    "        z_new = assign_clusters(X,U)\n",
    "        convergence = (z == z_new).all()\n",
    "        z = z_new\n",
    "    return U,z,k\n",
    "        \n",
    "        "
   ]
  },
  {
   "cell_type": "code",
   "execution_count": null,
   "metadata": {},
   "outputs": [],
   "source": [
    "k = 16\n",
    "X = pixels.copy()\n",
    "U = X[np.random.choice(X.shape[0], size = k, replace=False)]\n",
    "z = assign_clusters(X,U)\n",
    "\n",
    "start_time = time.time()\n",
    "U,z,k = do_loop(X,U,z,k)\n",
    "end_time = time.time()"
   ]
  },
  {
   "cell_type": "code",
   "execution_count": 94,
   "metadata": {},
   "outputs": [
    {
     "name": "stdout",
     "output_type": "stream",
     "text": [
      "[[196 244 254]\n",
      " [170 226 253]\n",
      " [ 22  26  29]\n",
      " [181 179 158]\n",
      " [ 11  13  10]\n",
      " [ 86  88  74]\n",
      " [ 99 101  87]\n",
      " [ 62  63  55]\n",
      " [ 91  88  69]\n",
      " [182 179 162]\n",
      " [223 253 255]\n",
      " [ 64  67  58]\n",
      " [153 206 250]\n",
      " [ 54  55  49]\n",
      " [154 206 253]\n",
      " [ 29  61  76]]\n"
     ]
    }
   ],
   "source": [
    "print(U)"
   ]
  },
  {
   "cell_type": "code",
   "execution_count": null,
   "metadata": {},
   "outputs": [],
   "source": [
    "Now we will show the compressed image. For this we need to replace each point by the \n",
    "cluster centroid we assigned it to."
   ]
  },
  {
   "cell_type": "code",
   "execution_count": null,
   "metadata": {},
   "outputs": [],
   "source": [
    "#. Displaying the compressed image against the original one\n",
    "fig, ax = plt.subplots(1,2,figsize=(15,15))\n",
    "ax[0].imshow(data) # this is the original image \n",
    "ax[0].set_title(\"Original\")\n",
    "compressed_image = X.reshape(height,width,3)\n",
    "ax[1].imshow(compressed_image) # this is the compressed one\n",
    "ax[1].set_title(\"Compressed\")\n",
    "pyplot.show()\n"
   ]
  }
 ],
 "metadata": {
  "kernelspec": {
   "display_name": "Python 3",
   "language": "python",
   "name": "python3"
  },
  "language_info": {
   "codemirror_mode": {
    "name": "ipython",
    "version": 3
   },
   "file_extension": ".py",
   "mimetype": "text/x-python",
   "name": "python",
   "nbconvert_exporter": "python",
   "pygments_lexer": "ipython3",
   "version": "3.7.3"
  }
 },
 "nbformat": 4,
 "nbformat_minor": 2
}
